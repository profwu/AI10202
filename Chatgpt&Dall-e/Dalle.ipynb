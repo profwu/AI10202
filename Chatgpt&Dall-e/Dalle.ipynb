{
 "cells": [
  {
   "cell_type": "code",
   "execution_count": 2,
   "id": "d9f37fa9",
   "metadata": {},
   "outputs": [],
   "source": [
    "# 呼叫DALL-E 2.0\n",
    "#參考文獻:https://platform.openai.com/docs/guides/images/usage\n",
    "#!pip install openai\n",
    "import os\n",
    "import openai\n",
    "\n",
    "openai.api_key = ''\n",
    "\n",
    "\n",
    "#PROMPT = \"An eco-friendly computer from the 90s in the style of vaporwave\"\n",
    "\n",
    "PROMPT = \"可愛的柴犬, 2d pixel\"\n",
    "\n",
    "#openai.api_key = os.getenv(\"OPENAI_API_KEY\")\n",
    "\n",
    "response = openai.Image.create(\n",
    "    prompt=PROMPT,\n",
    "    n=1,\n",
    "    size=\"256x256\",\n",
    ")\n",
    "\n",
    "image_url = response[\"data\"][0][\"url\"]\n",
    "#print(image_url)\n",
    "\n",
    "import requests\n",
    "from PIL import Image\n",
    "from io import BytesIO\n",
    "\n",
    "def display_image_from_url(url):\n",
    "    # 從 URL 下載圖片\n",
    "    response = requests.get(url)\n",
    "    response.raise_for_status()  # 如果出錯會丟出異常\n",
    "\n",
    "    # 使用 PIL 來打開與顯示圖片\n",
    "    image = Image.open(BytesIO(response.content))\n",
    "    image.show()\n",
    "\n",
    "# 替換以下 URL 為你想要的圖片網址\n",
    "#url = 'https://example.com/path/to/your/image.jpg'\n",
    "url = image_url\n",
    "display_image_from_url(url)"
   ]
  },
  {
   "cell_type": "code",
   "execution_count": null,
   "id": "30fec14b",
   "metadata": {},
   "outputs": [],
   "source": []
  },
  {
   "cell_type": "code",
   "execution_count": null,
   "id": "9085c637",
   "metadata": {},
   "outputs": [],
   "source": []
  }
 ],
 "metadata": {
  "kernelspec": {
   "display_name": "Python 3 (ipykernel)",
   "language": "python",
   "name": "python3"
  },
  "language_info": {
   "codemirror_mode": {
    "name": "ipython",
    "version": 3
   },
   "file_extension": ".py",
   "mimetype": "text/x-python",
   "name": "python",
   "nbconvert_exporter": "python",
   "pygments_lexer": "ipython3",
   "version": "3.11.5"
  }
 },
 "nbformat": 4,
 "nbformat_minor": 5
}
